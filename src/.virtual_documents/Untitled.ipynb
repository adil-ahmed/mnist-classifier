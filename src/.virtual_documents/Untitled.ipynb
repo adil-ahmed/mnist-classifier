from src.data import get_loaders

train_loader, test_loader = get_loaders(batch_size=64)

for images, labels in train_loader:
    print(images.shape, labels.shape)
    break




